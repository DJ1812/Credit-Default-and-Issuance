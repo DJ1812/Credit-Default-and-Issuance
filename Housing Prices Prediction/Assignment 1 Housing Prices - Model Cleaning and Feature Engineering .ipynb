{
 "cells": [
  {
   "cell_type": "code",
   "execution_count": null,
   "id": "f9cbc630",
   "metadata": {},
   "outputs": [],
   "source": [
    "# Installation with Pip Installer:\n",
    "# !pip3 install numpy pandas sklearn statsmodels matplotlib\n",
    "# !pip install tk\n",
    "# !pip install descartes\n",
    "# !pip install geopandas\n",
    "# !pip install DateTime\n",
    "# !pip install haversine\n",
    "# !pip install xgboost\n",
    "# !pip install bayesian-optimization\n",
    "\n",
    "# Importing some standard python libraries:\n",
    "import copy\n",
    "import math\n",
    "import pandas as pd\n",
    "import numpy as np\n",
    "import statsmodels.api as sm\n",
    "import sklearn as sk\n",
    "import matplotlib as mp\n",
    "import pycaret as pyc\n",
    "from pycaret.regression import *\n",
    "import random\n",
    "import seaborn as sns\n",
    "from scipy import stats\n",
    "from sklearn.metrics import mean_squared_error\n",
    "from sklearn.linear_model import LinearRegression, Ridge, Lasso\n",
    "from sklearn.linear_model import LassoCV,RidgeCV,ElasticNetCV\n",
    "from math import sqrt\n",
    "import matplotlib.pyplot as plt\n",
    "from pandas import Series\n",
    "from numpy.random import randn\n",
    "from sklearn.impute import SimpleImputer\n",
    "from sklearn.preprocessing import OneHotEncoder\n",
    "from sklearn.compose import ColumnTransformer\n",
    "from sklearn.model_selection import KFold\n",
    "from sklearn.pipeline import make_pipeline\n",
    "from sklearn.pipeline import Pipeline\n",
    "from sklearn.preprocessing import StandardScaler,MinMaxScaler,PolynomialFeatures,RobustScaler\n",
    "from sklearn.model_selection import GridSearchCV,KFold,RandomizedSearchCV,StratifiedKFold,cross_val_score\n",
    "%matplotlib inline"
   ]
  },
  {
   "cell_type": "code",
   "execution_count": null,
   "id": "ec055ede",
   "metadata": {},
   "outputs": [],
   "source": [
    "data_train = pd.read_csv(\"C:\\\\Users\\\\divya\\\\Documents\\\\QUEEN'S SMITH MMA\\\\Predictive Modelling - MMA 867\\\\Assignment 867\\\\Assignment 1\\\\house-prices-advanced-regression-techniques\\\\train.csv\", \n",
    "                    sep = ',') \n",
    "\n",
    "data_test = pd.read_csv(\"C:\\\\Users\\\\divya\\\\Documents\\\\QUEEN'S SMITH MMA\\\\Predictive Modelling - MMA 867\\\\Assignment 867\\\\Assignment 1\\\\house-prices-advanced-regression-techniques\\\\test.csv\", \n",
    "                    sep = ',') \n",
    "\n",
    "pd.options.display.max_columns = None\n",
    "pd.options.display.max_rows = None\n",
    "\n",
    "# Checking the number of rows and columns in data.\n",
    "print(\"Shape of Train Data: \", data_train.shape)\n",
    "print(\"Shape of Test Data: \", data_test.shape)\n",
    "\n",
    "# Display first few rows of data.\n",
    "data_train.head()\n",
    "data_test.head()\n"
   ]
  },
  {
   "cell_type": "code",
   "execution_count": null,
   "id": "9d65dca2",
   "metadata": {
    "scrolled": true
   },
   "outputs": [],
   "source": [
    "# Display type and structure of data.\n",
    "data_train.info()"
   ]
  },
  {
   "cell_type": "code",
   "execution_count": null,
   "id": "be71c187",
   "metadata": {},
   "outputs": [],
   "source": [
    "# Display summary of data.\n",
    "data_train.describe()"
   ]
  },
  {
   "cell_type": "code",
   "execution_count": null,
   "id": "db9e3acc",
   "metadata": {
    "scrolled": true
   },
   "outputs": [],
   "source": [
    "# Display correlation of data.\n",
    "corr = data_train.corr()\n",
    "corr['SalePrice'].sort_values(ascending=False)"
   ]
  },
  {
   "cell_type": "code",
   "execution_count": null,
   "id": "ed0703fa",
   "metadata": {},
   "outputs": [],
   "source": [
    "# Heatmap for first n numerical features that correlate with target the most \n",
    "n = 20\n",
    "plt.figure(figsize = (32,10))\n",
    "sns.set(font_scale=1.0)\n",
    "sns.heatmap(data_train[corr.nlargest(n, 'SalePrice').index].corr(), \n",
    "            annot = True, \n",
    "            fmt = '.02f', \n",
    "            square = True, \n",
    "            cbar = False,).set(title = \"Heatmap of Highly correlated values\")"
   ]
  },
  {
   "cell_type": "code",
   "execution_count": null,
   "id": "4b3ab6a2",
   "metadata": {},
   "outputs": [],
   "source": [
    "# Correlation Matrix\n",
    "\n",
    "f, ax = plt.subplots(figsize=(50, 50))\n",
    "mat = data_train.corr('pearson')\n",
    "mask = np.triu(np.ones_like(mat, dtype=bool))\n",
    "cmap = sns.color_palette(\"flare\", as_cmap=True)\n",
    "sns.set(font_scale = 1.6)\n",
    "sns.heatmap(mat, mask=mask, cmap=cmap, vmax=1, center=0, annot = True,\n",
    "            square=True, linewidths=.5, cbar_kws={\"shrink\": .8}).set_title(\"Heatmap for All Variables\")\n",
    "plt.show()"
   ]
  },
  {
   "cell_type": "code",
   "execution_count": null,
   "id": "057acca9",
   "metadata": {},
   "outputs": [],
   "source": [
    "train_plot = data_train.drop(columns=['Id'], axis = 1).copy()\n",
    "\n",
    "def plot_grid(data, fig_size, grid_size, plot_type, target = ''):\n",
    "    \"\"\"\n",
    "    Custom function for plotting grid of plots.\n",
    "    It takes: DataFrame of data, size of a grid, type of plots, string name of target variable;\n",
    "    And it outputs: grid of plots.\n",
    "    \"\"\"\n",
    "    \n",
    "    fig = plt.figure(figsize = fig_size)\n",
    "    if plot_type == 'histplot':\n",
    "        for i, column_name in enumerate(data.select_dtypes(exclude = 'object').columns):\n",
    "            fig.add_subplot(grid_size[0], grid_size[1], i + 1)\n",
    "            plot = sns.histplot(data[column_name], kde = True, color = 'red', stat = 'count')\n",
    "            plot.set_xlabel(column_name, fontsize = 12)\n",
    "    if plot_type == 'boxplot':\n",
    "        for i, column_name in enumerate(data.select_dtypes(exclude = 'object').columns):\n",
    "            fig.add_subplot(grid_size[0], grid_size[1], i + 1)\n",
    "            plot = sns.boxplot(x = data[column_name], color = 'red')\n",
    "            plot.set_xlabel(column_name, fontsize = 12)\n",
    "    if plot_type == 'scatterplot':\n",
    "        for i, column_name in enumerate(data.drop(target, axis = 1).select_dtypes(exclude = 'object').columns):\n",
    "            fig.add_subplot(grid_size[0], grid_size[1], i + 1)\n",
    "            plot = sns.scatterplot(x = data[column_name], y = data[target], color = 'red')\n",
    "            plot.set_xlabel(column_name, fontsize = 12)\n",
    "    if plot_type == 'boxplot_cat':\n",
    "        for i, column_name in enumerate(data.select_dtypes(include = 'object').columns):\n",
    "            fig.add_subplot(grid_size[0], grid_size[1], i + 1)\n",
    "            sort = data.groupby([column_name])[target].median().sort_values(ascending = False) # This is here to make sure boxes are sorted by median\n",
    "            plot = sns.boxplot(x = data[column_name], y = data[target], order = sort.index, palette = 'Reds')\n",
    "            plot.set_xlabel(column_name, fontsize = 12)\n",
    "    plt.tight_layout()"
   ]
  },
  {
   "cell_type": "code",
   "execution_count": null,
   "id": "c0396781",
   "metadata": {},
   "outputs": [],
   "source": [
    "\n",
    "plot_grid(train_plot, fig_size = (20, 40), grid_size = (12, 4), plot_type = 'scatterplot', target = 'SalePrice')"
   ]
  },
  {
   "cell_type": "code",
   "execution_count": null,
   "id": "e35adf74",
   "metadata": {},
   "outputs": [],
   "source": [
    "data_train.plot.scatter(x='GrLivArea', y='SalePrice')"
   ]
  },
  {
   "cell_type": "code",
   "execution_count": null,
   "id": "1cf63c0f",
   "metadata": {},
   "outputs": [],
   "source": [
    "data_train.plot.scatter(x='LotArea', y='SalePrice')"
   ]
  },
  {
   "cell_type": "code",
   "execution_count": null,
   "id": "ff79711b",
   "metadata": {},
   "outputs": [],
   "source": [
    "data_train.plot.scatter(x='MasVnrArea', y='SalePrice')"
   ]
  },
  {
   "cell_type": "code",
   "execution_count": null,
   "id": "71e24064",
   "metadata": {},
   "outputs": [],
   "source": [
    "data_train.plot.scatter(x='TotalBsmtSF', y='SalePrice')"
   ]
  },
  {
   "cell_type": "code",
   "execution_count": null,
   "id": "961158b7",
   "metadata": {},
   "outputs": [],
   "source": [
    "data_train.plot.scatter(x='OpenPorchSF', y='SalePrice')"
   ]
  },
  {
   "cell_type": "code",
   "execution_count": null,
   "id": "c28f5633",
   "metadata": {},
   "outputs": [],
   "source": [
    "from scipy import stats\n",
    "sns.set_style('whitegrid')\n",
    "# plt.figure(figsize = (16,6))\n",
    "\n",
    "fig, (ax1, ax2) = plt.subplots(1, 2, figsize = (24, 6), gridspec_kw={'width_ratios': [3, 2]})\n",
    "\n",
    "sns.histplot(data_train.SalePrice, kde = True, color = 'red', stat = 'count', ax = ax1)\n",
    "ax1.set_title('Histogram of SalePrice', fontsize = 16)\n",
    "stats.probplot(data_train.SalePrice, plot = sns.lineplot(ax = ax2))\n",
    "ax2.set_title('Probability Plot of SalePrice', fontsize = 16)\n",
    "ax2.get_lines()[0].set_color('red')\n",
    "ax2.get_lines()[1].set_color('black')"
   ]
  },
  {
   "cell_type": "code",
   "execution_count": null,
   "id": "c929bb0c",
   "metadata": {},
   "outputs": [],
   "source": [
    "train_y = data_train['SalePrice']\n",
    "train_y.shape "
   ]
  },
  {
   "cell_type": "code",
   "execution_count": null,
   "id": "f1cda1a8",
   "metadata": {
    "scrolled": true
   },
   "outputs": [],
   "source": [
    "train_cleaning = data_train.drop(columns=['SalePrice'], axis = 1).copy()\n",
    "test_cleaning = data_test.copy()\n",
    "train_test = pd.concat([train_cleaning, test_cleaning])\n",
    "\n",
    "\n",
    "missing_values = pd.concat([train_test.isnull().sum().sort_values(ascending = False),\n",
    "                            train_test.isnull().sum().sort_values(ascending = False).apply(lambda x: (x / train_test.shape[0]) * 100), \n",
    "                            train_test.dtypes],\n",
    "                            axis = 1, keys = ['Values missing', 'Percent of missing', 'Type'])\n",
    "missing_values[missing_values['Values missing'] > 0]\n"
   ]
  },
  {
   "cell_type": "code",
   "execution_count": null,
   "id": "c7c2eb6c",
   "metadata": {
    "scrolled": true
   },
   "outputs": [],
   "source": [
    "replace_none = ['PoolQC', 'MiscFeature', 'Alley', 'Fence', 'FireplaceQu', 'GarageFinish', 'GarageQual', 'GarageCond', \n",
    "                'GarageType', 'BsmtExposure', 'BsmtCond', 'BsmtQual', 'BsmtFinType2', 'BsmtFinType1', 'MasVnrType', \n",
    "                'Exterior2nd', 'Exterior1st']\n",
    "train_test[replace_none] = train_test[replace_none].fillna('None')\n",
    "\n",
    "replace_mode = ['MasVnrArea','GarageCars',  'GarageArea', 'Functional', \n",
    "                'Utilities','KitchenQual', 'SaleType', 'Electrical']\n",
    "\n",
    "for col_name in replace_mode:\n",
    "    train_test[col_name].replace(np.nan, train_test[col_name].mode()[0], inplace = True)\n",
    "\n",
    "replace_zero = ['BsmtFinSF2', 'BsmtFinSF1', 'BsmtUnfSF', 'TotalBsmtSF', 'BsmtHalfBath', 'BsmtFullBath', 'GarageYrBlt']\n",
    "train_test[replace_zero] = train_test[replace_zero].fillna(0)\n",
    "\n",
    "\n",
    "train_test['MSZoning'] = train_test.groupby('MSSubClass')['MSZoning'].transform(lambda x: x.fillna(x.mode()[0]))\n",
    "train_test['LotFrontage'] = train_test.groupby('Neighborhood')['LotFrontage'].transform(lambda x: x.fillna(x.median()))\n",
    "\n",
    "train_test.isnull().sum().sort_values(ascending = False)\n",
    "# train_test.head(10)"
   ]
  },
  {
   "cell_type": "code",
   "execution_count": null,
   "id": "441e3c9f",
   "metadata": {},
   "outputs": [],
   "source": [
    "train_test_plot = train_test.drop(columns=['Id'], axis = 1).copy()\n",
    "plot_grid(train_test_plot, fig_size = (20, 36), grid_size = (12, 4), plot_type = 'histplot')"
   ]
  },
  {
   "cell_type": "code",
   "execution_count": null,
   "id": "10202f46",
   "metadata": {},
   "outputs": [],
   "source": [
    "plot_grid(train_test_plot, fig_size = (20, 40), grid_size = (12, 4), plot_type = 'boxplot')"
   ]
  },
  {
   "cell_type": "code",
   "execution_count": null,
   "id": "c69163be",
   "metadata": {},
   "outputs": [],
   "source": [
    "from scipy.stats import norm\n",
    "train_y_log = np.log1p(train_y)\n",
    "# print(train_y_log)\n",
    "\n",
    "fig, ax = plt.subplots(1,2, figsize= (15,5))\n",
    "fig.suptitle(\"qq-plot & distribution SalePrice \", fontsize= 10)\n",
    "\n",
    "sm.qqplot(train_y_log, stats.t, distargs=(4,),fit=True, line=\"45\", ax = ax[0])\n",
    "sns.distplot(train_y_log, kde = True, hist=True, fit = norm, ax = ax[1])\n",
    "plt.show()"
   ]
  },
  {
   "cell_type": "markdown",
   "id": "7ce09d59",
   "metadata": {},
   "source": [
    "# Feature Engineering"
   ]
  },
  {
   "cell_type": "code",
   "execution_count": null,
   "id": "9bbd0012",
   "metadata": {},
   "outputs": [],
   "source": [
    "train_test_num= train_test.select_dtypes(include=['float64','int64']).columns  # Numerical columns\n",
    "train_test_cat = train_test.select_dtypes(include=['object']) \n",
    "train_test_cat.head()\n",
    "\n",
    "# Interaction features\n",
    "train_test['TotalPorchSF'] = (train_test['OpenPorchSF'] + train_test['3SsnPorch'] + \n",
    "                              train_test['EnclosedPorch'] + train_test['ScreenPorch'] + train_test['WoodDeckSF'])\n",
    "\n",
    "train_test['TotalSF'] = (train_test['BsmtFinSF1'] + train_test['BsmtFinSF2'] + \n",
    "                         train_test['1stFlrSF'] + train_test['2ndFlrSF'] + \n",
    "                         train_test['TotalPorchSF'] + train_test['GarageArea'])\n",
    "\n",
    "train_test['TotalBathrooms'] = (train_test['FullBath'] + (0.5 * train_test['HalfBath']) + \n",
    "                                train_test['BsmtFullBath'] + (0.5 * train_test['BsmtHalfBath']))\n",
    "\n",
    "train_test['TotalRms'] = (train_test['TotRmsAbvGrd'] + train_test['TotalBathrooms'])\n",
    "\n",
    "train_test['age']= train_test['YrSold'] - train_test['YearBuilt']\n",
    "\n",
    "# Indicator features \n",
    "train_test['HasPool'] = train_test['PoolArea'].apply(lambda x: 1 if x > 0 else 0)\n",
    "train_test['Has2ndFloor'] = train_test['2ndFlrSF'].apply(lambda x: 1 if x > 0 else 0)\n",
    "train_test['HasFireplace'] = train_test['Fireplaces'].apply(lambda x: 1 if x > 0 else 0)\n",
    "train_test['WasRemod'] = (train_test['YearRemodAdd'] != train_test['YearBuilt']).apply(lambda x: 1 if x == True else 0)\n",
    "\n",
    "\n",
    "train_test.shape"
   ]
  },
  {
   "cell_type": "code",
   "execution_count": null,
   "id": "815c4d28",
   "metadata": {},
   "outputs": [],
   "source": [
    "# splitting train and test data\n",
    "train_new= train_test.iloc[:len(train_y), :].reset_index(drop=True)\n",
    "test_new = train_test.iloc[len(train_new):, :].reset_index(drop=True)\n",
    "\n",
    "# train_new = train_test[1460,:]\n",
    "# train_new = train_test[:,1461]\n",
    "\n",
    "train_new = pd.concat([train_new, train_y_log], axis = 1)\n",
    "# train_new = pd.concat([train_new, train_y], axis = 1)\n",
    "\n",
    "train_new.head()"
   ]
  },
  {
   "cell_type": "code",
   "execution_count": null,
   "id": "52be7279",
   "metadata": {},
   "outputs": [],
   "source": [
    "train_new.to_csv(\"C:\\\\Users\\\\divya\\\\Documents\\\\QUEEN'S SMITH MMA\\\\Predictive Modelling - MMA 867\\\\Assignment 867\\\\Assignment 1\\\\house-prices-advanced-regression-techniques\\\\train_new.csv\", index = False)\n",
    "test_new.to_csv(\"C:\\\\Users\\\\divya\\\\Documents\\\\QUEEN'S SMITH MMA\\\\Predictive Modelling - MMA 867\\\\Assignment 867\\\\Assignment 1\\\\house-prices-advanced-regression-techniques\\\\test_new.csv\", index = False)"
   ]
  },
  {
   "cell_type": "code",
   "execution_count": null,
   "id": "263e2027",
   "metadata": {},
   "outputs": [],
   "source": [
    "test_new['SalePrice'] = np.nan\n",
    "test_new.head()"
   ]
  },
  {
   "cell_type": "code",
   "execution_count": null,
   "id": "64fb627d",
   "metadata": {},
   "outputs": [],
   "source": [
    "train_test.to_csv(\"C:\\\\Users\\\\divya\\\\Documents\\\\QUEEN'S SMITH MMA\\\\Predictive Modelling - MMA 867\\\\Assignment 867\\\\Assignment 1\\\\house-prices-advanced-regression-techniques\\\\train_test.csv\", index = False)"
   ]
  }
 ],
 "metadata": {
  "kernelspec": {
   "display_name": "Python 3",
   "language": "python",
   "name": "python3"
  },
  "language_info": {
   "codemirror_mode": {
    "name": "ipython",
    "version": 3
   },
   "file_extension": ".py",
   "mimetype": "text/x-python",
   "name": "python",
   "nbconvert_exporter": "python",
   "pygments_lexer": "ipython3",
   "version": "3.8.8"
  }
 },
 "nbformat": 4,
 "nbformat_minor": 5
}
